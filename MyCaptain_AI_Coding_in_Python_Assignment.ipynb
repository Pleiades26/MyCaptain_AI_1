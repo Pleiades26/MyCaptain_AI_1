{
  "nbformat": 4,
  "nbformat_minor": 0,
  "metadata": {
    "colab": {
      "name": "MyCaptain - AI - Coding in Python - Assignment.ipynb",
      "provenance": [],
      "collapsed_sections": []
    },
    "kernelspec": {
      "name": "python3",
      "display_name": "Python 3"
    }
  },
  "cells": [
    {
      "cell_type": "code",
      "metadata": {
        "id": "ikS4EB4qpzGJ",
        "colab_type": "code",
        "colab": {
          "base_uri": "https://localhost:8080/",
          "height": 69
        },
        "outputId": "6a89104a-2f0d-42f4-f5e0-6c4950f100a2"
      },
      "source": [
        "## Fibonacci Series\n",
        "\n",
        "Limit = int(input(\"Enter Limit: \"))\n",
        "\n",
        "# Assignments\n",
        "f1, f2 = 0, 1\n",
        "count = 0\n",
        "\n",
        "# Constraints and Output\n",
        "if Limit <= 0:\n",
        "   print(\"Limit must be a +ve integer\")\n",
        "\n",
        "elif Limit == 1:\n",
        "   print(\"Fibonacci series upto 1: \")\n",
        "   print(f1)\n",
        "\n",
        "else:\n",
        "   print(\"Fibonacci series: \")\n",
        "   \n",
        "   while count < Limit:\n",
        "       print(f1, end = \" \")\n",
        "       f = f1 + f2\n",
        "      \n",
        "       f1 = f2\n",
        "       f2 = f\n",
        "\n",
        "       count += 1"
      ],
      "execution_count": 15,
      "outputs": [
        {
          "output_type": "stream",
          "text": [
            "Enter Limit: 12\n",
            "Fibonacci series: \n",
            "0 1 1 2 3 5 8 13 21 34 55 89 "
          ],
          "name": "stdout"
        }
      ]
    }
  ]
}