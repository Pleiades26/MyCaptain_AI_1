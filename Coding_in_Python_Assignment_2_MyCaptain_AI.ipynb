{
  "nbformat": 4,
  "nbformat_minor": 0,
  "metadata": {
    "colab": {
      "name": "Coding in Python - Assignment 2 - MyCaptain_AI.ipynb",
      "provenance": []
    },
    "kernelspec": {
      "name": "python3",
      "display_name": "Python 3"
    }
  },
  "cells": [
    {
      "cell_type": "code",
      "metadata": {
        "id": "IvjK5jV0WHWI",
        "colab_type": "code",
        "colab": {
          "base_uri": "https://localhost:8080/",
          "height": 86
        },
        "outputId": "762b024c-4ce1-4c34-bca9-f01961816ef6"
      },
      "source": [
        "## Coding in Python - Assignment 2 - MyCaptain_AI\n",
        "\n",
        "# Write a Python program to print all positive numbers in a range.\n",
        "#Your Input and Output must look something like this:\n",
        "#     Input: list1 = [12, -7, 5, 64, -14]\n",
        "#     Output: 12, 5, 64\n",
        "#\n",
        "#     Input: list2 = [12, 14, -95, 3]\n",
        "#     Output: [12, 14, 3]\n",
        "\n",
        "#--------------------------------------------------------------------------\n",
        "\n",
        "# --------------- Part 1 (with list1) ---------------\n",
        "\n",
        "list1 = [12, -7, 5, 64, -14]\n",
        "\n",
        "list1_modified = []\n",
        "\n",
        "for i in list1:\n",
        "  if(i<0):\n",
        "    continue\n",
        "  else:\n",
        "    list1_modified.append(i)\n",
        "\n",
        "#print(list1_modified)\n",
        "\n",
        "print(*list1_modified, sep=', ')\n",
        "\n",
        "print(\"\\n\")\n",
        "\n",
        "# --------------- Part 2 (with list2) ---------------\n",
        "\n",
        "list2 = [12, 14, -95, 3]\n",
        "\n",
        "del list2[2]\n",
        "print(list2)\n"
      ],
      "execution_count": 45,
      "outputs": [
        {
          "output_type": "stream",
          "text": [
            "12, 5, 64\n",
            "\n",
            "\n",
            "[12, 14, 3]\n"
          ],
          "name": "stdout"
        }
      ]
    }
  ]
}