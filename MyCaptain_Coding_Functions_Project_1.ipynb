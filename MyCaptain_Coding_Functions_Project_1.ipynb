{
  "nbformat": 4,
  "nbformat_minor": 0,
  "metadata": {
    "colab": {
      "name": "MyCaptain - Coding Functions Project 1.ipynb",
      "provenance": [],
      "collapsed_sections": []
    },
    "kernelspec": {
      "name": "python3",
      "display_name": "Python 3"
    }
  },
  "cells": [
    {
      "cell_type": "code",
      "metadata": {
        "id": "-4s1sCCOVGoJ",
        "colab_type": "code",
        "outputId": "3ce7d61d-f649-4bb1-da41-b603e7ef17d6",
        "colab": {
          "base_uri": "https://localhost:8080/",
          "height": 69
        }
      },
      "source": [
        "## Assignning Elements to Different Lists\n",
        "\n",
        "#Creating Lists:\n",
        "A = []\n",
        "B = [\"Aelin\", \"Ashryver\", \"Galathynius\"]\n",
        "C = [\"A\", \"Court\"]\n",
        "For_List_C = [\"of\", \"Wings\", \"and\", \"Ruin\", \"- Book\", 3]\n",
        "\n",
        "\n",
        "''' \n",
        "Three methods for assigning elements to lists are:\n",
        "    1) append()\n",
        "    2) insert()\n",
        "    3) extend()\n",
        "'''\n",
        "\n",
        "A.append(\"Sarah J. Maas\")\n",
        "print(A)\n",
        "\n",
        "B.insert(2,\"Whitethorn\")\n",
        "print(B)\n",
        "\n",
        "C.extend(For_List_C)\n",
        "print(C)"
      ],
      "execution_count": 15,
      "outputs": [
        {
          "output_type": "stream",
          "text": [
            "['Sarah J. Maas']\n",
            "['Aelin', 'Ashryver', 'Whitethorn', 'Galathynius']\n",
            "['A', 'Court', 'of', 'Wings', 'and', 'Ruin', '- Book', 3]\n"
          ],
          "name": "stdout"
        }
      ]
    },
    {
      "cell_type": "code",
      "metadata": {
        "id": "OFDa90atNob_",
        "colab_type": "code",
        "colab": {
          "base_uri": "https://localhost:8080/",
          "height": 258
        },
        "outputId": "381529b4-5d81-4825-c206-a01386ddc920"
      },
      "source": [
        "## Accessing elements from a Tuple\n",
        "\n",
        "tup1 = ('A', 'e', 'l', 'i', 'n')\n",
        "tup2 = ('A','s','h','r','y','v','e','r')\n",
        "tup3 = ('G','a','l','a','t','h','y','n','i','u','s')\n",
        "\n",
        "''' \n",
        "Three methods for accessing elements from a Tuple are:\n",
        "    1) Indexing\n",
        "    2) Negative Indexing\n",
        "    3) Slicing\n",
        "'''\n",
        "\n",
        "# Indexing\n",
        "print(tup1[0])\n",
        "print(tup1[2])\n",
        "print(tup1[4])\n",
        "\n",
        "print(\"\\n\")\n",
        "\n",
        "# Negative Indexing\n",
        "print(tup2[-1])\n",
        "print(tup2[-2])\n",
        "print(tup2[-3])\n",
        "\n",
        "print(\"\\n\")\n",
        "\n",
        "#Slicing\n",
        "print(tup3[1:5])\n",
        "print(tup3[:-5])\n",
        "print(tup3[4:])\n",
        "print(tup3[:])"
      ],
      "execution_count": 19,
      "outputs": [
        {
          "output_type": "stream",
          "text": [
            "A\n",
            "l\n",
            "n\n",
            "\n",
            "\n",
            "r\n",
            "e\n",
            "v\n",
            "\n",
            "\n",
            "('a', 'l', 'a', 't')\n",
            "('G', 'a', 'l', 'a', 't', 'h')\n",
            "('t', 'h', 'y', 'n', 'i', 'u', 's')\n",
            "('G', 'a', 'l', 'a', 't', 'h', 'y', 'n', 'i', 'u', 's')\n"
          ],
          "name": "stdout"
        }
      ]
    },
    {
      "cell_type": "code",
      "metadata": {
        "id": "NhlMCyzIbSaE",
        "colab_type": "code",
        "colab": {
          "base_uri": "https://localhost:8080/",
          "height": 224
        },
        "outputId": "2f9b6ff4-0c02-469f-cec0-d456507056c6"
      },
      "source": [
        "## Deleting Different Dictionary Elements\n",
        "\n",
        "''' \n",
        "Three methods for accessing elements from a Tuple are:\n",
        "    1) del\n",
        "    2) pop()\n",
        "    3) items()\n",
        "'''\n",
        "\n",
        "#(1)\n",
        "ToG = {\"Celaena\" : 57, \"Dorian\" : 60, \"Chaol\" : 61, \"Rowan\" : 64}\n",
        "\n",
        "print(\"Dict before deleting: \" + str(ToG))\n",
        "del ToG['Dorian']\n",
        "print(\"Dict after deleting: \" + str(ToG))\n",
        "\n",
        "print(\"\\n\")\n",
        "\n",
        "#(2)\n",
        "ACoTaR = {\"Feyre\" : 1, \"Tamlin\" : 2, \"Rhysand\" : 3}\n",
        "\n",
        "print(\"Dict before deleting: \" + str(ACoTaR))\n",
        "Removed = ACoTaR.pop('Tamlin')\n",
        "print(\"Dict after deleting: \" + str(ACoTaR))\n",
        "print(\"Deleted Key's Value: \" + str(Removed))\n",
        "\n",
        "print(\"\\n\")\n",
        "\n",
        "#(3)\n",
        "Crescent_City = {\"Bryce Quinlan\" : 1, \"Hunt Athalar\" : 2, \"Shahar\" : 3}\n",
        "\n",
        "print(\"Dict before deleting: \" + str(Crescent_City))\n",
        "CC = {key:val for key, val in Crescent_City.items() if key != 'Shahar'}\n",
        "print(\"Dict after deleting: \" + str(Crescent_City))\n",
        "print(\"Deleted Key's Value: \" + str(CC))"
      ],
      "execution_count": 29,
      "outputs": [
        {
          "output_type": "stream",
          "text": [
            "Dict before deleting: {'Celaena': 57, 'Dorian': 60, 'Chaol': 61, 'Rowan': 64}\n",
            "Dict after deleting: {'Celaena': 57, 'Chaol': 61, 'Rowan': 64}\n",
            "\n",
            "\n",
            "Dict before deleting: {'Feyre': 1, 'Tamlin': 2, 'Rhysand': 3}\n",
            "Dict after deleting: {'Feyre': 1, 'Rhysand': 3}\n",
            "Deleted Key's Value: 2\n",
            "\n",
            "\n",
            "Dict before deleting: {'Bryce Quinlan': 1, 'Hunt Athalar': 2, 'Shahar': 3}\n",
            "Dict after deleting: {'Bryce Quinlan': 1, 'Hunt Athalar': 2, 'Shahar': 3}\n",
            "Deleted Key's Value: {'Bryce Quinlan': 1, 'Hunt Athalar': 2}\n"
          ],
          "name": "stdout"
        }
      ]
    }
  ]
}